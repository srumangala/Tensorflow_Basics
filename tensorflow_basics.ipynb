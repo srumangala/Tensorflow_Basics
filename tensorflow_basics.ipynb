{
  "nbformat": 4,
  "nbformat_minor": 0,
  "metadata": {
    "colab": {
      "provenance": [],
      "authorship_tag": "ABX9TyNeSzFi4SNTnZ2kxRsJblgX",
      "include_colab_link": true
    },
    "kernelspec": {
      "name": "python3",
      "display_name": "Python 3"
    },
    "language_info": {
      "name": "python"
    }
  },
  "cells": [
    {
      "cell_type": "markdown",
      "metadata": {
        "id": "view-in-github",
        "colab_type": "text"
      },
      "source": [
        "<a href=\"https://colab.research.google.com/github/srumangala/Tensorflow_Basics/blob/main/tensorflow_basics.ipynb\" target=\"_parent\"><img src=\"https://colab.research.google.com/assets/colab-badge.svg\" alt=\"Open In Colab\"/></a>"
      ]
    },
    {
      "cell_type": "markdown",
      "source": [
        "This is an intro to tensorlow with the basics.\n",
        "---"
      ],
      "metadata": {
        "id": "BkznIOHP_o08"
      }
    },
    {
      "cell_type": "markdown",
      "source": [
        "Importing tensorflow.\n",
        "\n",
        "---"
      ],
      "metadata": {
        "id": "lohIsvc8EeEh"
      }
    },
    {
      "cell_type": "code",
      "source": [
        "import tensorflow as tf\n",
        "print(tf.version)"
      ],
      "metadata": {
        "colab": {
          "base_uri": "https://localhost:8080/"
        },
        "id": "IBKm-ugc6NCY",
        "outputId": "8a61932f-13e3-44b3-9563-12aa291ee788"
      },
      "execution_count": 1,
      "outputs": [
        {
          "output_type": "stream",
          "name": "stdout",
          "text": [
            "<module 'tensorflow._api.v2.version' from '/usr/local/lib/python3.10/dist-packages/tensorflow/_api/v2/version/__init__.py'>\n"
          ]
        }
      ]
    },
    {
      "cell_type": "markdown",
      "source": [
        "Specifying tensorflow variables of tensors below.\n",
        "\n",
        "---"
      ],
      "metadata": {
        "id": "LoaC1FWI_b3P"
      }
    },
    {
      "cell_type": "code",
      "source": [
        "tensor_string = tf.Variable('String1', tf.string)\n",
        "tensor_int = tf.Variable(321, tf.int16)"
      ],
      "metadata": {
        "id": "bA-lN53L6b5R"
      },
      "execution_count": 3,
      "outputs": []
    },
    {
      "cell_type": "markdown",
      "source": [
        "Rank = no. of dimensions involved. numpy = 2,3, etc. (this is the rank)\n",
        "\n",
        "---\n",
        "\n"
      ],
      "metadata": {
        "id": "w2SmIv3R_yHE"
      }
    },
    {
      "cell_type": "code",
      "source": [
        "tensor_r1 = tf.Variable([[1,2],[3,4],[5,6]],tf.int16)\n",
        "tensor_r2 = tf.Variable([[[12.1,13.2],[13.4,0],[14.6,2]],[[2,3],[4,5],[5.325,66]]],tf.float64)\n",
        "print(tensor_r2)\n",
        "tf.rank(tensor_r1)\n"
      ],
      "metadata": {
        "colab": {
          "base_uri": "https://localhost:8080/"
        },
        "id": "TRINQ9ic_MMD",
        "outputId": "3c98a7a4-855f-4d10-8dd1-af2ea43cdeed"
      },
      "execution_count": 18,
      "outputs": [
        {
          "output_type": "stream",
          "name": "stdout",
          "text": [
            "<tf.Variable 'Variable:0' shape=(2, 3, 2) dtype=float32, numpy=\n",
            "array([[[12.1  , 13.2  ],\n",
            "        [13.4  ,  0.   ],\n",
            "        [14.6  ,  2.   ]],\n",
            "\n",
            "       [[ 2.   ,  3.   ],\n",
            "        [ 4.   ,  5.   ],\n",
            "        [ 5.325, 66.   ]]], dtype=float32)>\n"
          ]
        },
        {
          "output_type": "execute_result",
          "data": {
            "text/plain": [
              "<tf.Tensor: shape=(), dtype=int32, numpy=2>"
            ]
          },
          "metadata": {},
          "execution_count": 18
        }
      ]
    },
    {
      "cell_type": "code",
      "source": [
        "tf.rank(tensor_r2)"
      ],
      "metadata": {
        "colab": {
          "base_uri": "https://localhost:8080/"
        },
        "id": "hnD9e8ZJBOCw",
        "outputId": "d63d4312-cd0e-4b19-b245-6aa3fdf243b3"
      },
      "execution_count": 12,
      "outputs": [
        {
          "output_type": "execute_result",
          "data": {
            "text/plain": [
              "<tf.Tensor: shape=(), dtype=int32, numpy=3>"
            ]
          },
          "metadata": {},
          "execution_count": 12
        }
      ]
    },
    {
      "cell_type": "markdown",
      "source": [
        "Shape of tensor.\n",
        "\n",
        "---"
      ],
      "metadata": {
        "id": "4vRGTl-lBc58"
      }
    },
    {
      "cell_type": "code",
      "source": [
        "tensor_r1.shape"
      ],
      "metadata": {
        "colab": {
          "base_uri": "https://localhost:8080/"
        },
        "id": "iBg_KqSyBeVo",
        "outputId": "e5c5e291-9a1e-4485-eb87-3e492d38bf7d"
      },
      "execution_count": 13,
      "outputs": [
        {
          "output_type": "execute_result",
          "data": {
            "text/plain": [
              "TensorShape([3, 2])"
            ]
          },
          "metadata": {},
          "execution_count": 13
        }
      ]
    },
    {
      "cell_type": "code",
      "source": [
        "tensor_r2.shape"
      ],
      "metadata": {
        "colab": {
          "base_uri": "https://localhost:8080/"
        },
        "id": "R6tOK7hUBmlb",
        "outputId": "3e37e59f-48c0-401d-c740-0d0b4b4b4849"
      },
      "execution_count": 15,
      "outputs": [
        {
          "output_type": "execute_result",
          "data": {
            "text/plain": [
              "TensorShape([2, 3, 2])"
            ]
          },
          "metadata": {},
          "execution_count": 15
        }
      ]
    },
    {
      "cell_type": "markdown",
      "source": [
        "Changing Shape of tensor\n",
        "---"
      ],
      "metadata": {
        "id": "PBO8AR7VDEja"
      }
    },
    {
      "cell_type": "code",
      "source": [
        "tensor1 = tf.ones([1,2,3])\n",
        "print(tensor1)"
      ],
      "metadata": {
        "colab": {
          "base_uri": "https://localhost:8080/"
        },
        "id": "tSfGKTUgDIl3",
        "outputId": "0e4dec84-f418-4a1d-c1dc-94c0afdf803a"
      },
      "execution_count": 20,
      "outputs": [
        {
          "output_type": "stream",
          "name": "stdout",
          "text": [
            "tf.Tensor(\n",
            "[[[1. 1. 1.]\n",
            "  [1. 1. 1.]]], shape=(1, 2, 3), dtype=float32)\n"
          ]
        }
      ]
    },
    {
      "cell_type": "code",
      "source": [
        "tensor2 = tf.ones([4,3,2])\n",
        "#print(tensor2)"
      ],
      "metadata": {
        "id": "b5ZHBBYLD1fA"
      },
      "execution_count": 30,
      "outputs": []
    },
    {
      "cell_type": "code",
      "source": [
        "tensor3 = tf.reshape(tensor1,[2,3,1] )\n",
        "#print(tensor3)"
      ],
      "metadata": {
        "id": "I38xnRO9DSwx"
      },
      "execution_count": 31,
      "outputs": []
    },
    {
      "cell_type": "code",
      "source": [
        "tensor4 = tf.reshape(tensor2, [2,3,4])\n",
        "#print(tensor4)"
      ],
      "metadata": {
        "id": "CAs3OafmEJem"
      },
      "execution_count": 32,
      "outputs": []
    },
    {
      "cell_type": "markdown",
      "source": [
        "Check below. [4,-1] implies it will change original tensor of [4,3,2] into [4, 3*2] = [4,6]"
      ],
      "metadata": {
        "id": "DXorKJKRFZW2"
      }
    },
    {
      "cell_type": "code",
      "source": [
        "tensor5 = tf.reshape(tensor2, [4,-1])\n",
        "print(tensor5)"
      ],
      "metadata": {
        "colab": {
          "base_uri": "https://localhost:8080/"
        },
        "id": "peq57Ba7FDYq",
        "outputId": "77dc2f99-c43a-47c8-d971-2741d737524d"
      },
      "execution_count": 29,
      "outputs": [
        {
          "output_type": "stream",
          "name": "stdout",
          "text": [
            "tf.Tensor(\n",
            "[[1. 1. 1. 1. 1. 1.]\n",
            " [1. 1. 1. 1. 1. 1.]\n",
            " [1. 1. 1. 1. 1. 1.]\n",
            " [1. 1. 1. 1. 1. 1.]], shape=(4, 6), dtype=float32)\n"
          ]
        }
      ]
    }
  ]
}